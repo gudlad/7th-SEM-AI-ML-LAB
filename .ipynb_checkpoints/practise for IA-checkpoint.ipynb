{
 "cells": [
  {
   "cell_type": "markdown",
   "id": "1d5480fe",
   "metadata": {},
   "source": [
    "# pgm 9"
   ]
  },
  {
   "cell_type": "code",
   "execution_count": 100,
   "id": "d427941f",
   "metadata": {},
   "outputs": [],
   "source": [
    "import matplotlib.pyplot as plt\n",
    "import numpy as np\n",
    "import pandas as pd"
   ]
  },
  {
   "cell_type": "code",
   "execution_count": 101,
   "id": "08aea61d",
   "metadata": {},
   "outputs": [],
   "source": [
    "def kernal(point,xmat,k):       # keep eye\n",
    "    m,n=np.shape(xmat)\n",
    "    weights=np.mat(np.eye(m))\n",
    "    for j in range(m):\n",
    "        diff=point-X[j]\n",
    "        weights[j,j]=np.exp(diff*diff.T/(-2.0*k**2))\n",
    "    return weights\n",
    "\n",
    "def localWeight(point,xmat,ymat,k):      \n",
    "    wei=kernal(point,xmat,k)\n",
    "    W=(X.T*(wei*X)).I*(X.T*(wei*ymat.T))\n",
    "    return W\n",
    "\n",
    "def localWeihtedRegression(xmat,ymat,k):    \n",
    "    m,n=np.shape(xmat)\n",
    "    ypred=np.zeros(m)\n",
    "    for i in range(m):\n",
    "        ypred[i]=xmat[i]*localWeight(xmat[i],xmat,ymat,k)\n",
    "    return ypred"
   ]
  },
  {
   "cell_type": "code",
   "execution_count": 104,
   "id": "a6fc0a63",
   "metadata": {},
   "outputs": [],
   "source": [
    "def graphplot(X, ypred):  # (bill amount,predicted tips amount)\n",
    "    sortindex = X[:, 1].argsort(0)\n",
    "    # returns the index values in an order that would sort the input array\n",
    "    xsort = X[sortindex][:, 0]\n",
    "    fig = plt.figure()\n",
    "    ax = fig.add_subplot(1, 1, 1)\n",
    "    ax.scatter(bill, tip, color='green')  # to draw points\n",
    "    ax.plot(xsort[:, 1], ypred[sortindex], color='red',\n",
    "            linewidth=4)  # to draw the line\n",
    "\n",
    "    plt.xlabel('Total Bill')\n",
    "    plt.ylabel('Tip')\n",
    "    plt.show()"
   ]
  },
  {
   "cell_type": "code",
   "execution_count": 105,
   "id": "aa930a61",
   "metadata": {},
   "outputs": [],
   "source": [
    "data=pd.read_csv('data10_tips.csv')"
   ]
  },
  {
   "cell_type": "code",
   "execution_count": 106,
   "id": "0a46a91d",
   "metadata": {},
   "outputs": [
    {
     "data": {
      "image/png": "[encoded data removed]",
      "text/plain": [
       "<Figure size 432x288 with 1 Axes>"
      ]
     },
     "metadata": {
      "needs_background": "light"
     },
     "output_type": "display_data"
    }
   ],
   "source": [
    "bill=np.array(data.total_bill)\n",
    "tip=np.array(data.tip)\n",
    "mbill=np.mat(bill)\n",
    "mtip=np.mat(tip)\n",
    "m=np.shape(mbill)[1]\n",
    "one=np.mat(np.ones(m))\n",
    "X=np.hstack((one.T,mbill.T))\n",
    "ypred=localWeihtedRegression(X,mtip,0.5)\n",
    "graphplot(X,ypred)"
   ]
  },
  {
   "cell_type": "markdown",
   "id": "3ad73242",
   "metadata": {},
   "source": [
    "\n",
    "\n",
    "# pgm 8"
   ]
  },
  {
   "cell_type": "code",
   "execution_count": 122,
   "id": "e9cbe866",
   "metadata": {},
   "outputs": [
    {
     "name": "stdout",
     "output_type": "stream",
     "text": [
      "0:setosa\n",
      "1:versicolor\n",
      "2:virginica\n"
     ]
    }
   ],
   "source": [
    "from sklearn.neighbors import KNeighborsClassifier\n",
    "from sklearn.model_selection import train_test_split\n",
    "from sklearn import datasets\n",
    "import numpy as np\n",
    "\n",
    "iris=datasets.load_iris()\n",
    "for i in range(len(iris.target_names)):\n",
    "    print('{0}:{1}'.format(i,iris.target_names[i]))\n",
    "\n",
    "X_train,X_test,Y_train,Y_test=train_test_split(iris.data,iris.target,random_state=0)"
   ]
  },
  {
   "cell_type": "code",
   "execution_count": 200,
   "id": "597e4237",
   "metadata": {
    "scrolled": true
   },
   "outputs": [
    {
     "name": "stdout",
     "output_type": "stream",
     "text": [
      "Actual:2 virginica,Predicted [2] ['virginica']\n",
      "Actual:1 versicolor,Predicted [1] ['versicolor']\n",
      "Actual:0 setosa,Predicted [0] ['setosa']\n",
      "Actual:2 virginica,Predicted [2] ['virginica']\n",
      "Actual:0 setosa,Predicted [0] ['setosa']\n",
      "Actual:2 virginica,Predicted [2] ['virginica']\n",
      "Actual:0 setosa,Predicted [0] ['setosa']\n",
      "Actual:1 versicolor,Predicted [1] ['versicolor']\n",
      "Actual:1 versicolor,Predicted [1] ['versicolor']\n",
      "Actual:1 versicolor,Predicted [1] ['versicolor']\n",
      "Actual:2 virginica,Predicted [2] ['virginica']\n",
      "Actual:1 versicolor,Predicted [1] ['versicolor']\n",
      "Actual:1 versicolor,Predicted [1] ['versicolor']\n",
      "Actual:1 versicolor,Predicted [1] ['versicolor']\n",
      "Actual:1 versicolor,Predicted [1] ['versicolor']\n",
      "Actual:0 setosa,Predicted [0] ['setosa']\n",
      "Actual:1 versicolor,Predicted [1] ['versicolor']\n",
      "Actual:1 versicolor,Predicted [1] ['versicolor']\n",
      "Actual:0 setosa,Predicted [0] ['setosa']\n",
      "Actual:0 setosa,Predicted [0] ['setosa']\n",
      "Actual:2 virginica,Predicted [2] ['virginica']\n",
      "Actual:1 versicolor,Predicted [1] ['versicolor']\n",
      "Actual:0 setosa,Predicted [0] ['setosa']\n",
      "Actual:0 setosa,Predicted [0] ['setosa']\n",
      "Actual:2 virginica,Predicted [2] ['virginica']\n",
      "Actual:0 setosa,Predicted [0] ['setosa']\n",
      "Actual:0 setosa,Predicted [0] ['setosa']\n",
      "Actual:1 versicolor,Predicted [1] ['versicolor']\n",
      "Actual:1 versicolor,Predicted [1] ['versicolor']\n",
      "Actual:0 setosa,Predicted [0] ['setosa']\n",
      "Actual:2 virginica,Predicted [2] ['virginica']\n",
      "Actual:1 versicolor,Predicted [1] ['versicolor']\n",
      "Actual:0 setosa,Predicted [0] ['setosa']\n",
      "Actual:2 virginica,Predicted [2] ['virginica']\n",
      "Actual:2 virginica,Predicted [2] ['virginica']\n",
      "Actual:1 versicolor,Predicted [1] ['versicolor']\n",
      "Actual:0 setosa,Predicted [0] ['setosa']\n",
      "Actual:1 versicolor,Predicted [2] ['virginica']\n",
      "Test score[Accuracy]: 0.97\n"
     ]
    }
   ],
   "source": [
    "knn=KNeighborsClassifier(n_neighbors=1)\n",
    "knn.fit(X_train,Y_train)\n",
    "\n",
    "x_new=np.array([[5,2.9,1,0.2]])\n",
    "prediction=knn.predict(x_new)\n",
    "\n",
    "for i in range(len(X_test)):\n",
    "    x_new=np.array([X_test[i]])\n",
    "    prediction=knn.predict(x_new)\n",
    "    print('Actual:{0} {1},Predicted {2} {3}'.format(Y_test[i],iris.target_names[Y_test[i]],prediction,iris.target_names[prediction]))\n",
    "print('Test score[Accuracy]: {:.2f}'.format(knn.score(X_test,Y_test)))"
   ]
  },
  {
   "cell_type": "markdown",
   "id": "19457735",
   "metadata": {},
   "source": [
    "# pgm 7"
   ]
  },
  {
   "cell_type": "markdown",
   "id": "f6d6beb4",
   "metadata": {},
   "source": [
    "###### dont run this program in many seperate cells"
   ]
  },
  {
   "cell_type": "code",
   "execution_count": 2,
   "id": "af2adf08",
   "metadata": {},
   "outputs": [],
   "source": [
    "from sklearn.mixture import GaussianMixture\n",
    "from sklearn.cluster import KMeans\n",
    "from sklearn import preprocessing\n",
    "\n",
    "from sklearn import datasets\n",
    "import matplotlib.pyplot as plt\n",
    "import pandas as pd\n",
    "import numpy as np\n",
    "\n",
    "iris=datasets.load_iris()\n",
    "X=pd.DataFrame(iris.data)\n",
    "X.columns=['Sepal_Length','Sepal_Width','Petal_Length','Petal_Width']\n",
    "y=pd.DataFrame(iris.target)\n",
    "y.columns=['Targets']"
   ]
  },
  {
   "cell_type": "code",
   "execution_count": 3,
   "id": "7143ecdf",
   "metadata": {},
   "outputs": [
    {
     "data": {
      "text/plain": [
       "Text(0, 0.5, 'petal_width')"
      ]
     },
     "execution_count": 3,
     "metadata": {},
     "output_type": "execute_result"
    },
    {
     "data": {
      "image/png": "[encoded data removed]",
      "text/plain": [
       "<Figure size 1008x1008 with 1 Axes>"
      ]
     },
     "metadata": {
      "needs_background": "light"
     },
     "output_type": "display_data"
    }
   ],
   "source": [
    "plt.figure(figsize=(14,14))\n",
    "colorMap=np.array(['red','lime','black'])\n",
    "\n",
    "plt.subplot(2,2,1)\n",
    "plt.scatter(X.Petal_Length,X.Petal_Width,color=colorMap[y.Targets],s=40)\n",
    "plt.title('Real Clusters')\n",
    "plt.xlabel(\"Petal_length\")\n",
    "plt.ylabel('petal_width')\n",
    "\n",
    "k=KMeans(n_clusters=3)\n",
    "k.fit(X)\n",
    "\n",
    "plt.subplot(2,2,2)\n",
    "plt.scatter(X.Petal_Length,X.Petal_Width,color=colorMap[k.labels_],s=40)\n",
    "plt.title('Kmeans Clusters')\n",
    "plt.xlabel(\"Petal_length\")\n",
    "plt.ylabel('petal_width')\n",
    "\n",
    "scalar=preprocessing.StandardScaler()\n",
    "scalar.fit(X)\n",
    "xsa=scalar.transform(X)\n",
    "xs=pd.DataFrame(xsa,columns=X.columns)\n",
    "\n",
    "gmm=GaussianMixture(n_components=3)\n",
    "gmm.fit(xs)\n",
    "gmm_y=gmm.predict(xs)\n",
    "\n",
    "plt.subplot(2,2,3)\n",
    "plt.scatter(X.Petal_Length,X.Petal_Width,color=colorMap[gmm_y],s=40)\n",
    "plt.title('GMM Clusters')\n",
    "plt.xlabel(\"Petal_length\")\n",
    "plt.ylabel('petal_width')\n",
    "\n",
    "print('The Gaussina Mixture using Em algorihtm matches the true labels more closely than the kmeans')\n",
    "plt.show()"
   ]
  },
  {
   "cell_type": "markdown",
   "id": "bf893055",
   "metadata": {},
   "source": [
    "# pgm 5"
   ]
  },
  {
   "cell_type": "code",
   "execution_count": 164,
   "id": "8a096df4",
   "metadata": {},
   "outputs": [],
   "source": [
    "import numpy as np"
   ]
  },
  {
   "cell_type": "code",
   "execution_count": 172,
   "id": "2d9f6d5f",
   "metadata": {},
   "outputs": [
    {
     "name": "stdout",
     "output_type": "stream",
     "text": [
      "Normalized input [[0.66666667 1.        ]\n",
      " [0.33333333 0.55555556]\n",
      " [1.         0.66666667]]\n",
      "Actuall Ouput [[0.92]\n",
      " [0.86]\n",
      " [0.89]]\n",
      "Predicted Ouput [[0.89276446]\n",
      " [0.87972052]\n",
      " [0.89735119]]\n"
     ]
    }
   ],
   "source": [
    "X=np.array(([2,9],[1,5],[3,6]))\n",
    "Y=np.array(([92],[86],[89]))\n",
    "\n",
    "X=X/np.max(X,axis=0) # erro possibility \n",
    "Y=Y/100\n",
    "\n",
    "epoch=1000\n",
    "eta=0.2\n",
    "input_neurons=2\n",
    "hidden_neurons=3\n",
    "output_neurons=1\n",
    "\n",
    "wh=np.random.uniform(size=(input_neurons,hidden_neurons))\n",
    "bh=np.random.uniform(size=(1,hidden_neurons))\n",
    "wo=np.random.uniform(size=(hidden_neurons,output_neurons))\n",
    "bo=np.random.uniform(size=(1,output_neurons))\n",
    "\n",
    "def sigmoid(x):\n",
    "    return 1/(1+np.exp(-x))\n",
    "def sigmoid_grad(x):\n",
    "    return x*(1-x)\n",
    "\n",
    "for i in range(epoch):\n",
    "    h_ip=np.dot(X,wh)+bh\n",
    "    h_act=sigmoid(h_ip)\n",
    "    o_ip=np.dot(h_act,wo)+bo\n",
    "    output=sigmoid(o_ip)\n",
    "    \n",
    "    Eo=Y-output\n",
    "    outgrad=sigmoid_grad(output)\n",
    "    d_output=Eo*outgrad\n",
    "    \n",
    "    Eh=np.dot(d_output,wo.T)\n",
    "    hiddengrad=sigmoid_grad(h_act)\n",
    "    d_hidden=Eh*hiddengrad\n",
    "    \n",
    "    wo+=h_act.T.dot(d_output)*eta\n",
    "    wh+=X.T.dot(d_hidden)*eta\n",
    "    \n",
    "print('Normalized input',X)\n",
    "print('Actuall Ouput',Y)\n",
    "print('Predicted Ouput',output)"
   ]
  },
  {
   "cell_type": "markdown",
   "id": "7753e027",
   "metadata": {},
   "source": [
    "# pgm 2"
   ]
  },
  {
   "cell_type": "code",
   "execution_count": 174,
   "id": "f862eeea",
   "metadata": {},
   "outputs": [],
   "source": [
    "import numpy as np\n",
    "import pandas as pd"
   ]
  },
  {
   "cell_type": "code",
   "execution_count": 184,
   "id": "0f0a377c",
   "metadata": {},
   "outputs": [
    {
     "name": "stdout",
     "output_type": "stream",
     "text": [
      "1 ['Sunny' 'Warm' 'Normal' 'Strong' 'Warm' 'Same']\n",
      "2 ['Sunny' 'Warm' 'High' 'Strong' 'Warm' 'Same']\n",
      "3 ['Rainy' 'Cold' 'High' 'Strong' 'Warm' 'Change']\n",
      "4 ['Sunny' 'Warm' 'High' 'Strong' 'Cool' 'Change']\n",
      "initialization of s and g\n",
      "specific boundary ['Sunny' 'Warm' 'Normal' 'Strong' 'Warm' 'Same']\n",
      "generic boundary [['?', '?', '?', '?', '?', '?'], ['?', '?', '?', '?', '?', '?'], ['?', '?', '?', '?', '?', '?'], ['?', '?', '?', '?', '?', '?'], ['?', '?', '?', '?', '?', '?'], ['?', '?', '?', '?', '?', '?']]\n",
      "instance is positive\n",
      "specific boundary after 1 instance ['Sunny' 'Warm' 'Normal' 'Strong' 'Warm' 'Same']\n",
      "generic boundary after 1 instance [['?', '?', '?', '?', '?', '?'], ['?', '?', '?', '?', '?', '?'], ['?', '?', '?', '?', '?', '?'], ['?', '?', '?', '?', '?', '?'], ['?', '?', '?', '?', '?', '?'], ['?', '?', '?', '?', '?', '?']]\n",
      "instance is positive\n",
      "specific boundary after 2 instance ['Sunny' 'Warm' '?' 'Strong' 'Warm' 'Same']\n",
      "generic boundary after 2 instance [['?', '?', '?', '?', '?', '?'], ['?', '?', '?', '?', '?', '?'], ['?', '?', '?', '?', '?', '?'], ['?', '?', '?', '?', '?', '?'], ['?', '?', '?', '?', '?', '?'], ['?', '?', '?', '?', '?', '?']]\n",
      "instance is negative\n",
      "specific boundary after 3 instance ['Sunny' 'Warm' '?' 'Strong' 'Warm' 'Same']\n",
      "generic boundary after 3 instance [['Sunny', '?', '?', '?', '?', '?'], ['?', 'Warm', '?', '?', '?', '?'], ['?', '?', '?', '?', '?', '?'], ['?', '?', '?', '?', '?', '?'], ['?', '?', '?', '?', '?', '?'], ['?', '?', '?', '?', '?', 'Same']]\n",
      "instance is positive\n",
      "specific boundary after 4 instance ['Sunny' 'Warm' '?' 'Strong' '?' '?']\n",
      "generic boundary after 4 instance [['Sunny', '?', '?', '?', '?', '?'], ['?', 'Warm', '?', '?', '?', '?'], ['?', '?', '?', '?', '?', '?'], ['?', '?', '?', '?', '?', '?'], ['?', '?', '?', '?', '?', '?'], ['?', '?', '?', '?', '?', '?']]\n",
      "final specific_h ['Sunny' 'Warm' '?' 'Strong' '?' '?']\n",
      "final generic_h [['Sunny', '?', '?', '?', '?', '?'], ['?', 'Warm', '?', '?', '?', '?']]\n"
     ]
    }
   ],
   "source": [
    "data=pd.read_csv('ws.csv',header=None)\n",
    "concepts=np.array(data.iloc[:,:-1])\n",
    "target=np.array(data.iloc[:,-1])\n",
    "for i,h in enumerate(concepts):\n",
    "    print(i+1,h)\n",
    "\n",
    "def learn(concepts,target):\n",
    "    specific_h=concepts[0].copy()\n",
    "    generic_h=[[\"?\" for x in range(len(specific_h))] for x in range(len(specific_h))]\n",
    "    print(\"initialization of s and g\")\n",
    "    print('specific boundary',specific_h)\n",
    "    print('generic boundary',generic_h)\n",
    "    for i,h in enumerate(concepts):\n",
    "        if target[i]=='Yes':\n",
    "            print('instance is positive')\n",
    "            for x in range(len(specific_h)):\n",
    "                if h[x]!=specific_h[x]:\n",
    "                    specific_h[x]='?'\n",
    "                    generic_h[x][x]='?'\n",
    "        if target[i]=='No':\n",
    "            print('instance is negative')\n",
    "            for x in range(len(specific_h)):\n",
    "                if h[x]!=specific_h[x]:\n",
    "                    generic_h[x][x]=specific_h[x]\n",
    "                else:\n",
    "                    generic_h[x][x]='?'\n",
    "        print('specific boundary after',i+1,'instance',specific_h)\n",
    "        print('generic boundary after',i+1,'instance',generic_h)\n",
    "    indices=[index for index,value in enumerate(generic_h) if value==['?', '?', '?', '?', '?', '?']]\n",
    "    for i in range(len(indices)):\n",
    "        generic_h.remove(['?', '?', '?', '?', '?', '?'])\n",
    "    return specific_h,generic_h\n",
    "    \n",
    "s_final,g_final=learn(concepts,target)\n",
    "print(\"final specific_h\",s_final)\n",
    "print(\"final generic_h\",g_final)"
   ]
  },
  {
   "cell_type": "markdown",
   "id": "61fb677c",
   "metadata": {},
   "source": [
    "# pgm 1"
   ]
  },
  {
   "cell_type": "code",
   "execution_count": 199,
   "id": "a0579362",
   "metadata": {},
   "outputs": [
    {
     "name": "stdout",
     "output_type": "stream",
     "text": [
      "Path exist\n"
     ]
    },
    {
     "data": {
      "text/plain": [
       "['S', 'B', 'E']"
      ]
     },
     "execution_count": 199,
     "metadata": {},
     "output_type": "execute_result"
    }
   ],
   "source": [
    "def aStarAlgo(start_node,stop_node):\n",
    "    openSet=set(start_node)\n",
    "    closedSet=set()\n",
    "    g={}\n",
    "    parent={}\n",
    "    g[start_node]=0\n",
    "    parent[start_node]=start_node\n",
    "    \n",
    "    while(len(openSet)>0):\n",
    "        n=None\n",
    "        for v in openSet:\n",
    "            if n==None or g[v]+heuristic(v)<g[n]+heuristic(n):\n",
    "                n=v\n",
    "        if n==stop_node or Graph_nodes[n]==None:\n",
    "            pass\n",
    "        else:\n",
    "            for m,weight in getNeibours(n):\n",
    "                if m not in openSet and m not in closedSet:\n",
    "                    openSet.add(m)\n",
    "                    g[m]=g[n]+weight\n",
    "                    parent[m]=n\n",
    "                else:\n",
    "                    if g[m]>g[n]+weight:\n",
    "                        g[m]=g[n]+weight\n",
    "                        parent[m]=n\n",
    "                        if m in closedSet:\n",
    "                            closedSet.remove(m)\n",
    "                            openSet.add(m)\n",
    "        if n==None:\n",
    "            print('Path doesnot exist')\n",
    "            return None\n",
    "        if n==stop_node:\n",
    "            path=[]\n",
    "            while parent[n]!=n:\n",
    "                path.append(n)\n",
    "                n=parent[n]\n",
    "            path.append(start_node)\n",
    "            path.reverse()\n",
    "            print('Path exist')\n",
    "            return path\n",
    "        openSet.remove(n)\n",
    "        closedSet.add(n)\n",
    "    print('path doesnot exist')                \n",
    "    return None\n",
    "\n",
    "\n",
    "def getNeibours(v):\n",
    "    if v in Graph_nodes:\n",
    "        return Graph_nodes[v]\n",
    "    else:\n",
    "        return None\n",
    "    \n",
    "def heuristic(n):\n",
    "    H_dist={\n",
    "        'S':5,\n",
    "        'A':4,\n",
    "        'B':5,\n",
    "        'E':0\n",
    "    }\n",
    "    return H_dist[n]\n",
    "\n",
    "Graph_nodes={\n",
    "    'S':[('A',1),('B',2)],\n",
    "    'A':[('E',13)],\n",
    "    'B':[('E',5)]\n",
    "}\n",
    "aStarAlgo('S','E')"
   ]
  },
  {
   "cell_type": "code",
   "execution_count": null,
   "id": "9d72d595",
   "metadata": {},
   "outputs": [],
   "source": []
  }
 ],
 "metadata": {
  "kernelspec": {
   "display_name": "Python 3 (ipykernel)",
   "language": "python",
   "name": "python3"
  },
  "language_info": {
   "codemirror_mode": {
    "name": "ipython",
    "version": 3
   },
   "file_extension": ".py",
   "mimetype": "text/x-python",
   "name": "python",
   "nbconvert_exporter": "python",
   "pygments_lexer": "ipython3",
   "version": "3.8.8"
  },
  "vscode": {
   "interpreter": {
    "hash": "916dbcbb3f70747c44a77c7bcd40155683ae19c65e1c03b4aa3499c5328201f1"
   }
  }
 },
 "nbformat": 4,
 "nbformat_minor": 5
}
